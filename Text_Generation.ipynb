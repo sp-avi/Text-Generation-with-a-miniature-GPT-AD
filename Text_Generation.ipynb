{
  "nbformat": 4,
  "nbformat_minor": 0,
  "metadata": {
    "colab": {
      "provenance": [],
      "gpuType": "T4",
      "authorship_tag": "ABX9TyMagg0CZGwiSaPeS6h98YWL"
    },
    "kernelspec": {
      "name": "python3",
      "display_name": "Python 3"
    },
    "language_info": {
      "name": "python"
    },
    "accelerator": "GPU"
  },
  "cells": [
    {
      "cell_type": "markdown",
      "source": [
        "# **1. Import Libraries**"
      ],
      "metadata": {
        "id": "ntmpnEGo_NRV"
      }
    },
    {
      "cell_type": "code",
      "source": [
        "!pip install tensorflow\n",
        "import tensorflow as tf\n",
        "from tensorflow.keras.preprocessing.text import Tokenizer\n",
        "from tensorflow.keras.preprocessing.sequence import pad_sequences\n",
        "from tensorflow.keras.models import Sequential\n",
        "from tensorflow.keras.layers import Embedding, LSTM, Dense, Dropout\n",
        "import numpy as np\n"
      ],
      "metadata": {
        "colab": {
          "base_uri": "https://localhost:8080/"
        },
        "id": "OVeh2WOG_WtE",
        "outputId": "8e76382f-7a0e-4767-edb7-30dcc04f7104"
      },
      "execution_count": 1,
      "outputs": [
        {
          "output_type": "stream",
          "name": "stdout",
          "text": [
            "Requirement already satisfied: tensorflow in /usr/local/lib/python3.10/dist-packages (2.15.0)\n",
            "Requirement already satisfied: absl-py>=1.0.0 in /usr/local/lib/python3.10/dist-packages (from tensorflow) (1.4.0)\n",
            "Requirement already satisfied: astunparse>=1.6.0 in /usr/local/lib/python3.10/dist-packages (from tensorflow) (1.6.3)\n",
            "Requirement already satisfied: flatbuffers>=23.5.26 in /usr/local/lib/python3.10/dist-packages (from tensorflow) (24.3.25)\n",
            "Requirement already satisfied: gast!=0.5.0,!=0.5.1,!=0.5.2,>=0.2.1 in /usr/local/lib/python3.10/dist-packages (from tensorflow) (0.6.0)\n",
            "Requirement already satisfied: google-pasta>=0.1.1 in /usr/local/lib/python3.10/dist-packages (from tensorflow) (0.2.0)\n",
            "Requirement already satisfied: h5py>=2.9.0 in /usr/local/lib/python3.10/dist-packages (from tensorflow) (3.9.0)\n",
            "Requirement already satisfied: libclang>=13.0.0 in /usr/local/lib/python3.10/dist-packages (from tensorflow) (18.1.1)\n",
            "Requirement already satisfied: ml-dtypes~=0.2.0 in /usr/local/lib/python3.10/dist-packages (from tensorflow) (0.2.0)\n",
            "Requirement already satisfied: numpy<2.0.0,>=1.23.5 in /usr/local/lib/python3.10/dist-packages (from tensorflow) (1.25.2)\n",
            "Requirement already satisfied: opt-einsum>=2.3.2 in /usr/local/lib/python3.10/dist-packages (from tensorflow) (3.3.0)\n",
            "Requirement already satisfied: packaging in /usr/local/lib/python3.10/dist-packages (from tensorflow) (24.1)\n",
            "Requirement already satisfied: protobuf!=4.21.0,!=4.21.1,!=4.21.2,!=4.21.3,!=4.21.4,!=4.21.5,<5.0.0dev,>=3.20.3 in /usr/local/lib/python3.10/dist-packages (from tensorflow) (3.20.3)\n",
            "Requirement already satisfied: setuptools in /usr/local/lib/python3.10/dist-packages (from tensorflow) (67.7.2)\n",
            "Requirement already satisfied: six>=1.12.0 in /usr/local/lib/python3.10/dist-packages (from tensorflow) (1.16.0)\n",
            "Requirement already satisfied: termcolor>=1.1.0 in /usr/local/lib/python3.10/dist-packages (from tensorflow) (2.4.0)\n",
            "Requirement already satisfied: typing-extensions>=3.6.6 in /usr/local/lib/python3.10/dist-packages (from tensorflow) (4.12.2)\n",
            "Requirement already satisfied: wrapt<1.15,>=1.11.0 in /usr/local/lib/python3.10/dist-packages (from tensorflow) (1.14.1)\n",
            "Requirement already satisfied: tensorflow-io-gcs-filesystem>=0.23.1 in /usr/local/lib/python3.10/dist-packages (from tensorflow) (0.37.1)\n",
            "Requirement already satisfied: grpcio<2.0,>=1.24.3 in /usr/local/lib/python3.10/dist-packages (from tensorflow) (1.64.1)\n",
            "Requirement already satisfied: tensorboard<2.16,>=2.15 in /usr/local/lib/python3.10/dist-packages (from tensorflow) (2.15.2)\n",
            "Requirement already satisfied: tensorflow-estimator<2.16,>=2.15.0 in /usr/local/lib/python3.10/dist-packages (from tensorflow) (2.15.0)\n",
            "Requirement already satisfied: keras<2.16,>=2.15.0 in /usr/local/lib/python3.10/dist-packages (from tensorflow) (2.15.0)\n",
            "Requirement already satisfied: wheel<1.0,>=0.23.0 in /usr/local/lib/python3.10/dist-packages (from astunparse>=1.6.0->tensorflow) (0.43.0)\n",
            "Requirement already satisfied: google-auth<3,>=1.6.3 in /usr/local/lib/python3.10/dist-packages (from tensorboard<2.16,>=2.15->tensorflow) (2.27.0)\n",
            "Requirement already satisfied: google-auth-oauthlib<2,>=0.5 in /usr/local/lib/python3.10/dist-packages (from tensorboard<2.16,>=2.15->tensorflow) (1.2.1)\n",
            "Requirement already satisfied: markdown>=2.6.8 in /usr/local/lib/python3.10/dist-packages (from tensorboard<2.16,>=2.15->tensorflow) (3.6)\n",
            "Requirement already satisfied: requests<3,>=2.21.0 in /usr/local/lib/python3.10/dist-packages (from tensorboard<2.16,>=2.15->tensorflow) (2.31.0)\n",
            "Requirement already satisfied: tensorboard-data-server<0.8.0,>=0.7.0 in /usr/local/lib/python3.10/dist-packages (from tensorboard<2.16,>=2.15->tensorflow) (0.7.2)\n",
            "Requirement already satisfied: werkzeug>=1.0.1 in /usr/local/lib/python3.10/dist-packages (from tensorboard<2.16,>=2.15->tensorflow) (3.0.3)\n",
            "Requirement already satisfied: cachetools<6.0,>=2.0.0 in /usr/local/lib/python3.10/dist-packages (from google-auth<3,>=1.6.3->tensorboard<2.16,>=2.15->tensorflow) (5.4.0)\n",
            "Requirement already satisfied: pyasn1-modules>=0.2.1 in /usr/local/lib/python3.10/dist-packages (from google-auth<3,>=1.6.3->tensorboard<2.16,>=2.15->tensorflow) (0.4.0)\n",
            "Requirement already satisfied: rsa<5,>=3.1.4 in /usr/local/lib/python3.10/dist-packages (from google-auth<3,>=1.6.3->tensorboard<2.16,>=2.15->tensorflow) (4.9)\n",
            "Requirement already satisfied: requests-oauthlib>=0.7.0 in /usr/local/lib/python3.10/dist-packages (from google-auth-oauthlib<2,>=0.5->tensorboard<2.16,>=2.15->tensorflow) (1.3.1)\n",
            "Requirement already satisfied: charset-normalizer<4,>=2 in /usr/local/lib/python3.10/dist-packages (from requests<3,>=2.21.0->tensorboard<2.16,>=2.15->tensorflow) (3.3.2)\n",
            "Requirement already satisfied: idna<4,>=2.5 in /usr/local/lib/python3.10/dist-packages (from requests<3,>=2.21.0->tensorboard<2.16,>=2.15->tensorflow) (3.7)\n",
            "Requirement already satisfied: urllib3<3,>=1.21.1 in /usr/local/lib/python3.10/dist-packages (from requests<3,>=2.21.0->tensorboard<2.16,>=2.15->tensorflow) (2.0.7)\n",
            "Requirement already satisfied: certifi>=2017.4.17 in /usr/local/lib/python3.10/dist-packages (from requests<3,>=2.21.0->tensorboard<2.16,>=2.15->tensorflow) (2024.7.4)\n",
            "Requirement already satisfied: MarkupSafe>=2.1.1 in /usr/local/lib/python3.10/dist-packages (from werkzeug>=1.0.1->tensorboard<2.16,>=2.15->tensorflow) (2.1.5)\n",
            "Requirement already satisfied: pyasn1<0.7.0,>=0.4.6 in /usr/local/lib/python3.10/dist-packages (from pyasn1-modules>=0.2.1->google-auth<3,>=1.6.3->tensorboard<2.16,>=2.15->tensorflow) (0.6.0)\n",
            "Requirement already satisfied: oauthlib>=3.0.0 in /usr/local/lib/python3.10/dist-packages (from requests-oauthlib>=0.7.0->google-auth-oauthlib<2,>=0.5->tensorboard<2.16,>=2.15->tensorflow) (3.2.2)\n"
          ]
        }
      ]
    },
    {
      "cell_type": "markdown",
      "source": [
        "# **2. Load and Preprocess Dataw Section**"
      ],
      "metadata": {
        "id": "0GO3pdZy_stl"
      }
    },
    {
      "cell_type": "code",
      "source": [
        "# Load transcriptions\n",
        "def load_data(file_path):\n",
        "    with open(file_path, 'r', encoding='utf-8') as file:\n",
        "        data = file.read()\n",
        "    return data\n",
        "\n",
        "# Assuming all transcriptions are stored in a single text file\n",
        "data = load_data('/content/cleaned_transcripts.txt')\n",
        "\n",
        "# Preprocess the data\n",
        "tokenizer = Tokenizer()\n",
        "tokenizer.fit_on_texts([data])\n",
        "total_words = len(tokenizer.word_index) + 1\n",
        "\n",
        "input_sequences = []\n",
        "for line in data.split('\\n'):\n",
        "    token_list = tokenizer.texts_to_sequences([line])[0]\n",
        "    for i in range(1, len(token_list)):\n",
        "        n_gram_sequence = token_list[:i+1]\n",
        "        input_sequences.append(n_gram_sequence)\n",
        "\n",
        "# Pad sequences\n",
        "max_sequence_len = max([len(x) for x in input_sequences])\n",
        "input_sequences = np.array(pad_sequences(input_sequences, maxlen=max_sequence_len, padding='pre'))\n",
        "\n",
        "# Create predictors and label\n",
        "predictors, label = input_sequences[:,:-1],input_sequences[:,-1]\n",
        "label = tf.keras.utils.to_categorical(label, num_classes=total_words)\n"
      ],
      "metadata": {
        "id": "uDQCEV1y_uGa"
      },
      "execution_count": 3,
      "outputs": []
    },
    {
      "cell_type": "markdown",
      "source": [
        "# **3. Build the Modelction**"
      ],
      "metadata": {
        "id": "Aq1le4_F_zGE"
      }
    },
    {
      "cell_type": "code",
      "source": [
        "model = Sequential([\n",
        "    Embedding(total_words, 100, input_length=max_sequence_len-1),\n",
        "    LSTM(150, return_sequences=True),\n",
        "    Dropout(0.2),\n",
        "    LSTM(100),\n",
        "    Dense(total_words, activation='softmax')\n",
        "])\n",
        "\n",
        "model.compile(loss='categorical_crossentropy', optimizer='adam', metrics=['accuracy'])\n",
        "model.summary()\n"
      ],
      "metadata": {
        "colab": {
          "base_uri": "https://localhost:8080/"
        },
        "id": "20r1kEgm_3GM",
        "outputId": "69882724-30b3-4f15-df7b-a33d2e3f9cf6"
      },
      "execution_count": 4,
      "outputs": [
        {
          "output_type": "stream",
          "name": "stdout",
          "text": [
            "Model: \"sequential\"\n",
            "_________________________________________________________________\n",
            " Layer (type)                Output Shape              Param #   \n",
            "=================================================================\n",
            " embedding (Embedding)       (None, 99, 100)           362500    \n",
            "                                                                 \n",
            " lstm (LSTM)                 (None, 99, 150)           150600    \n",
            "                                                                 \n",
            " dropout (Dropout)           (None, 99, 150)           0         \n",
            "                                                                 \n",
            " lstm_1 (LSTM)               (None, 100)               100400    \n",
            "                                                                 \n",
            " dense (Dense)               (None, 3625)              366125    \n",
            "                                                                 \n",
            "=================================================================\n",
            "Total params: 979625 (3.74 MB)\n",
            "Trainable params: 979625 (3.74 MB)\n",
            "Non-trainable params: 0 (0.00 Byte)\n",
            "_________________________________________________________________\n"
          ]
        }
      ]
    },
    {
      "cell_type": "markdown",
      "source": [
        "# **4. Train the Model**"
      ],
      "metadata": {
        "id": "ft42K_BoABJs"
      }
    },
    {
      "cell_type": "code",
      "source": [
        "history = model.fit(predictors, label, epochs=50, verbose=1)\n"
      ],
      "metadata": {
        "id": "EEFHX_RCAFlU",
        "colab": {
          "base_uri": "https://localhost:8080/"
        },
        "outputId": "83801c53-4f78-4e57-cae6-af4da136c9eb"
      },
      "execution_count": 5,
      "outputs": [
        {
          "output_type": "stream",
          "name": "stdout",
          "text": [
            "Epoch 1/50\n",
            "3366/3366 [==============================] - 79s 22ms/step - loss: 5.6707 - accuracy: 0.0700\n",
            "Epoch 2/50\n",
            "3366/3366 [==============================] - 49s 14ms/step - loss: 4.9960 - accuracy: 0.1212\n",
            "Epoch 3/50\n",
            "3366/3366 [==============================] - 48s 14ms/step - loss: 4.7783 - accuracy: 0.1380\n",
            "Epoch 4/50\n",
            "3366/3366 [==============================] - 54s 16ms/step - loss: 4.3842 - accuracy: 0.1755\n",
            "Epoch 5/50\n",
            "3366/3366 [==============================] - 52s 16ms/step - loss: 4.0393 - accuracy: 0.2150\n",
            "Epoch 6/50\n",
            "3366/3366 [==============================] - 47s 14ms/step - loss: 3.7699 - accuracy: 0.2525\n",
            "Epoch 7/50\n",
            "3366/3366 [==============================] - 49s 14ms/step - loss: 3.5591 - accuracy: 0.2829\n",
            "Epoch 8/50\n",
            "3366/3366 [==============================] - 50s 15ms/step - loss: 3.3854 - accuracy: 0.3097\n",
            "Epoch 9/50\n",
            "3366/3366 [==============================] - 49s 15ms/step - loss: 3.2430 - accuracy: 0.3319\n",
            "Epoch 10/50\n",
            "3366/3366 [==============================] - 47s 14ms/step - loss: 3.1255 - accuracy: 0.3500\n",
            "Epoch 11/50\n",
            "3366/3366 [==============================] - 47s 14ms/step - loss: 3.0244 - accuracy: 0.3655\n",
            "Epoch 12/50\n",
            "3366/3366 [==============================] - 50s 15ms/step - loss: 2.9346 - accuracy: 0.3816\n",
            "Epoch 13/50\n",
            "3366/3366 [==============================] - 48s 14ms/step - loss: 2.8585 - accuracy: 0.3935\n",
            "Epoch 14/50\n",
            "3366/3366 [==============================] - 50s 15ms/step - loss: 2.7896 - accuracy: 0.4045\n",
            "Epoch 15/50\n",
            "3366/3366 [==============================] - 48s 14ms/step - loss: 2.7278 - accuracy: 0.4150\n",
            "Epoch 16/50\n",
            "3366/3366 [==============================] - 49s 15ms/step - loss: 2.6715 - accuracy: 0.4244\n",
            "Epoch 17/50\n",
            "3366/3366 [==============================] - 50s 15ms/step - loss: 2.6210 - accuracy: 0.4318\n",
            "Epoch 18/50\n",
            "3366/3366 [==============================] - 50s 15ms/step - loss: 2.5760 - accuracy: 0.4396\n",
            "Epoch 19/50\n",
            "3366/3366 [==============================] - 49s 15ms/step - loss: 2.5328 - accuracy: 0.4469\n",
            "Epoch 20/50\n",
            "3366/3366 [==============================] - 50s 15ms/step - loss: 2.4960 - accuracy: 0.4515\n",
            "Epoch 21/50\n",
            "3366/3366 [==============================] - 51s 15ms/step - loss: 2.4571 - accuracy: 0.4588\n",
            "Epoch 22/50\n",
            "3366/3366 [==============================] - 50s 15ms/step - loss: 2.4226 - accuracy: 0.4639\n",
            "Epoch 23/50\n",
            "3366/3366 [==============================] - 47s 14ms/step - loss: 2.3922 - accuracy: 0.4678\n",
            "Epoch 24/50\n",
            "3366/3366 [==============================] - 49s 14ms/step - loss: 2.3571 - accuracy: 0.4748\n",
            "Epoch 25/50\n",
            "3366/3366 [==============================] - 49s 15ms/step - loss: 2.3404 - accuracy: 0.4788\n",
            "Epoch 26/50\n",
            "3366/3366 [==============================] - 50s 15ms/step - loss: 2.3068 - accuracy: 0.4835\n",
            "Epoch 27/50\n",
            "3366/3366 [==============================] - 49s 14ms/step - loss: 2.2823 - accuracy: 0.4863\n",
            "Epoch 28/50\n",
            "3366/3366 [==============================] - 48s 14ms/step - loss: 2.2553 - accuracy: 0.4918\n",
            "Epoch 29/50\n",
            "3366/3366 [==============================] - 49s 14ms/step - loss: 2.2437 - accuracy: 0.4920\n",
            "Epoch 30/50\n",
            "3366/3366 [==============================] - 48s 14ms/step - loss: 2.2164 - accuracy: 0.4978\n",
            "Epoch 31/50\n",
            "3366/3366 [==============================] - 48s 14ms/step - loss: 2.1966 - accuracy: 0.5003\n",
            "Epoch 32/50\n",
            "3366/3366 [==============================] - 49s 14ms/step - loss: 2.1741 - accuracy: 0.5028\n",
            "Epoch 33/50\n",
            "3366/3366 [==============================] - 49s 15ms/step - loss: 2.1586 - accuracy: 0.5065\n",
            "Epoch 34/50\n",
            "3366/3366 [==============================] - 47s 14ms/step - loss: 2.1474 - accuracy: 0.5076\n",
            "Epoch 35/50\n",
            "3366/3366 [==============================] - 50s 15ms/step - loss: 2.1286 - accuracy: 0.5114\n",
            "Epoch 36/50\n",
            "3366/3366 [==============================] - 48s 14ms/step - loss: 2.1118 - accuracy: 0.5133\n",
            "Epoch 37/50\n",
            "3366/3366 [==============================] - 49s 14ms/step - loss: 2.0901 - accuracy: 0.5156\n",
            "Epoch 38/50\n",
            "3366/3366 [==============================] - 50s 15ms/step - loss: 2.0810 - accuracy: 0.5190\n",
            "Epoch 39/50\n",
            "3366/3366 [==============================] - 49s 15ms/step - loss: 2.0696 - accuracy: 0.5205\n",
            "Epoch 40/50\n",
            "3366/3366 [==============================] - 47s 14ms/step - loss: 2.0525 - accuracy: 0.5213\n",
            "Epoch 41/50\n",
            "3366/3366 [==============================] - 50s 15ms/step - loss: 2.0323 - accuracy: 0.5272\n",
            "Epoch 42/50\n",
            "3366/3366 [==============================] - 49s 15ms/step - loss: 2.0246 - accuracy: 0.5282\n",
            "Epoch 43/50\n",
            "3366/3366 [==============================] - 49s 15ms/step - loss: 2.0132 - accuracy: 0.5293\n",
            "Epoch 44/50\n",
            "3366/3366 [==============================] - 47s 14ms/step - loss: 2.0013 - accuracy: 0.5318\n",
            "Epoch 45/50\n",
            "3366/3366 [==============================] - 46s 14ms/step - loss: 1.9887 - accuracy: 0.5338\n",
            "Epoch 46/50\n",
            "3366/3366 [==============================] - 49s 15ms/step - loss: 1.9756 - accuracy: 0.5343\n",
            "Epoch 47/50\n",
            "3366/3366 [==============================] - 47s 14ms/step - loss: 1.9671 - accuracy: 0.5375\n",
            "Epoch 48/50\n",
            "3366/3366 [==============================] - 48s 14ms/step - loss: 1.9555 - accuracy: 0.5398\n",
            "Epoch 49/50\n",
            "3366/3366 [==============================] - 47s 14ms/step - loss: 1.9499 - accuracy: 0.5396\n",
            "Epoch 50/50\n",
            "3366/3366 [==============================] - 48s 14ms/step - loss: 1.9371 - accuracy: 0.5410\n"
          ]
        }
      ]
    },
    {
      "cell_type": "markdown",
      "source": [
        "# **5. Generate Text**"
      ],
      "metadata": {
        "id": "SK15fNq8AHfs"
      }
    },
    {
      "cell_type": "code",
      "source": [
        "def generate_text(seed_text, next_words, max_sequence_len):\n",
        "    for _ in range(next_words):\n",
        "        token_list = tokenizer.texts_to_sequences([seed_text])[0]\n",
        "        token_list = pad_sequences([token_list], maxlen=max_sequence_len-1, padding='pre')\n",
        "        predicted = np.argmax(model.predict(token_list, verbose=0), axis=-1)\n",
        "        output_word = \"\"\n",
        "        for word, index in tokenizer.word_index.items():\n",
        "            if index == predicted:\n",
        "                output_word = word\n",
        "                break\n",
        "        seed_text += \" \" + output_word\n",
        "    return seed_text\n",
        "\n",
        "print(generate_text(\"I feel\", 50, max_sequence_len))\n"
      ],
      "metadata": {
        "id": "jqvJ5Eq7AKBP",
        "colab": {
          "base_uri": "https://localhost:8080/"
        },
        "outputId": "2f9831a9-bc41-4059-d260-a8576c89d094"
      },
      "execution_count": 6,
      "outputs": [
        {
          "output_type": "stream",
          "name": "stdout",
          "text": [
            "I feel like my whole life is going to be spent standing on the beach with my eyes wide open and my hands clasped expectantly waiting for fish to show up and the fish won't show up and the fish will go to the beach and we took off our shoes and\n"
          ]
        }
      ]
    },
    {
      "cell_type": "code",
      "source": [],
      "metadata": {
        "id": "dMVpw6oMCCXD"
      },
      "execution_count": null,
      "outputs": []
    }
  ]
}
